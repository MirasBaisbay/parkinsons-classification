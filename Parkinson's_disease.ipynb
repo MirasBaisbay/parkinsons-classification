{
  "nbformat": 4,
  "nbformat_minor": 0,
  "metadata": {
    "colab": {
      "provenance": [],
      "authorship_tag": "ABX9TyMeZ6qDOjuTqSZQoWs8IdOI",
      "include_colab_link": true
    },
    "kernelspec": {
      "name": "python3",
      "display_name": "Python 3"
    },
    "language_info": {
      "name": "python"
    }
  },
  "cells": [
    {
      "cell_type": "markdown",
      "metadata": {
        "id": "view-in-github",
        "colab_type": "text"
      },
      "source": [
        "<a href=\"https://colab.research.google.com/github/MirasBaisbay/parkinsons-classification/blob/main/Parkinson's_disease.ipynb\" target=\"_parent\"><img src=\"https://colab.research.google.com/assets/colab-badge.svg\" alt=\"Open In Colab\"/></a>"
      ]
    },
    {
      "cell_type": "code",
      "execution_count": 1,
      "metadata": {
        "colab": {
          "base_uri": "https://localhost:8080/",
          "height": 255
        },
        "id": "sxc8IaC7Ko1d",
        "outputId": "79670406-831f-4c66-b29e-baf6a91352bf"
      },
      "outputs": [
        {
          "output_type": "execute_result",
          "data": {
            "text/plain": [
              "   id  gender      PPE      DFA     RPDE  numPulses  numPeriodsPulses  \\\n",
              "0   0       1  0.85247  0.71826  0.57227        240               239   \n",
              "1   0       1  0.76686  0.69481  0.53966        234               233   \n",
              "2   0       1  0.85083  0.67604  0.58982        232               231   \n",
              "3   1       0  0.41121  0.79672  0.59257        178               177   \n",
              "4   1       0  0.32790  0.79782  0.53028        236               235   \n",
              "\n",
              "   meanPeriodPulses  stdDevPeriodPulses  locPctJitter  ...  \\\n",
              "0          0.008064            0.000087       0.00218  ...   \n",
              "1          0.008258            0.000073       0.00195  ...   \n",
              "2          0.008340            0.000060       0.00176  ...   \n",
              "3          0.010858            0.000183       0.00419  ...   \n",
              "4          0.008162            0.002669       0.00535  ...   \n",
              "\n",
              "   tqwt_kurtosisValue_dec_28  tqwt_kurtosisValue_dec_29  \\\n",
              "0                     1.5620                     2.6445   \n",
              "1                     1.5589                     3.6107   \n",
              "2                     1.5643                     2.3308   \n",
              "3                     3.7805                     3.5664   \n",
              "4                     6.1727                     5.8416   \n",
              "\n",
              "   tqwt_kurtosisValue_dec_30  tqwt_kurtosisValue_dec_31  \\\n",
              "0                     3.8686                     4.2105   \n",
              "1                    23.5155                    14.1962   \n",
              "2                     9.4959                    10.7458   \n",
              "3                     5.2558                    14.0403   \n",
              "4                     6.0805                     5.7621   \n",
              "\n",
              "   tqwt_kurtosisValue_dec_32  tqwt_kurtosisValue_dec_33  \\\n",
              "0                     5.1221                     4.4625   \n",
              "1                    11.0261                     9.5082   \n",
              "2                    11.0177                     4.8066   \n",
              "3                     4.2235                     4.6857   \n",
              "4                     7.7817                    11.6891   \n",
              "\n",
              "   tqwt_kurtosisValue_dec_34  tqwt_kurtosisValue_dec_35  \\\n",
              "0                     2.6202                     3.0004   \n",
              "1                     6.5245                     6.3431   \n",
              "2                     2.9199                     3.1495   \n",
              "3                     4.8460                     6.2650   \n",
              "4                     8.2103                     5.0559   \n",
              "\n",
              "   tqwt_kurtosisValue_dec_36  class  \n",
              "0                    18.9405      1  \n",
              "1                    45.1780      1  \n",
              "2                     4.7666      1  \n",
              "3                     4.0603      1  \n",
              "4                     6.1164      1  \n",
              "\n",
              "[5 rows x 755 columns]"
            ],
            "text/html": [
              "\n",
              "  <div id=\"df-2b1f09e6-3031-4d05-ae75-274e4b72a095\" class=\"colab-df-container\">\n",
              "    <div>\n",
              "<style scoped>\n",
              "    .dataframe tbody tr th:only-of-type {\n",
              "        vertical-align: middle;\n",
              "    }\n",
              "\n",
              "    .dataframe tbody tr th {\n",
              "        vertical-align: top;\n",
              "    }\n",
              "\n",
              "    .dataframe thead th {\n",
              "        text-align: right;\n",
              "    }\n",
              "</style>\n",
              "<table border=\"1\" class=\"dataframe\">\n",
              "  <thead>\n",
              "    <tr style=\"text-align: right;\">\n",
              "      <th></th>\n",
              "      <th>id</th>\n",
              "      <th>gender</th>\n",
              "      <th>PPE</th>\n",
              "      <th>DFA</th>\n",
              "      <th>RPDE</th>\n",
              "      <th>numPulses</th>\n",
              "      <th>numPeriodsPulses</th>\n",
              "      <th>meanPeriodPulses</th>\n",
              "      <th>stdDevPeriodPulses</th>\n",
              "      <th>locPctJitter</th>\n",
              "      <th>...</th>\n",
              "      <th>tqwt_kurtosisValue_dec_28</th>\n",
              "      <th>tqwt_kurtosisValue_dec_29</th>\n",
              "      <th>tqwt_kurtosisValue_dec_30</th>\n",
              "      <th>tqwt_kurtosisValue_dec_31</th>\n",
              "      <th>tqwt_kurtosisValue_dec_32</th>\n",
              "      <th>tqwt_kurtosisValue_dec_33</th>\n",
              "      <th>tqwt_kurtosisValue_dec_34</th>\n",
              "      <th>tqwt_kurtosisValue_dec_35</th>\n",
              "      <th>tqwt_kurtosisValue_dec_36</th>\n",
              "      <th>class</th>\n",
              "    </tr>\n",
              "  </thead>\n",
              "  <tbody>\n",
              "    <tr>\n",
              "      <th>0</th>\n",
              "      <td>0</td>\n",
              "      <td>1</td>\n",
              "      <td>0.85247</td>\n",
              "      <td>0.71826</td>\n",
              "      <td>0.57227</td>\n",
              "      <td>240</td>\n",
              "      <td>239</td>\n",
              "      <td>0.008064</td>\n",
              "      <td>0.000087</td>\n",
              "      <td>0.00218</td>\n",
              "      <td>...</td>\n",
              "      <td>1.5620</td>\n",
              "      <td>2.6445</td>\n",
              "      <td>3.8686</td>\n",
              "      <td>4.2105</td>\n",
              "      <td>5.1221</td>\n",
              "      <td>4.4625</td>\n",
              "      <td>2.6202</td>\n",
              "      <td>3.0004</td>\n",
              "      <td>18.9405</td>\n",
              "      <td>1</td>\n",
              "    </tr>\n",
              "    <tr>\n",
              "      <th>1</th>\n",
              "      <td>0</td>\n",
              "      <td>1</td>\n",
              "      <td>0.76686</td>\n",
              "      <td>0.69481</td>\n",
              "      <td>0.53966</td>\n",
              "      <td>234</td>\n",
              "      <td>233</td>\n",
              "      <td>0.008258</td>\n",
              "      <td>0.000073</td>\n",
              "      <td>0.00195</td>\n",
              "      <td>...</td>\n",
              "      <td>1.5589</td>\n",
              "      <td>3.6107</td>\n",
              "      <td>23.5155</td>\n",
              "      <td>14.1962</td>\n",
              "      <td>11.0261</td>\n",
              "      <td>9.5082</td>\n",
              "      <td>6.5245</td>\n",
              "      <td>6.3431</td>\n",
              "      <td>45.1780</td>\n",
              "      <td>1</td>\n",
              "    </tr>\n",
              "    <tr>\n",
              "      <th>2</th>\n",
              "      <td>0</td>\n",
              "      <td>1</td>\n",
              "      <td>0.85083</td>\n",
              "      <td>0.67604</td>\n",
              "      <td>0.58982</td>\n",
              "      <td>232</td>\n",
              "      <td>231</td>\n",
              "      <td>0.008340</td>\n",
              "      <td>0.000060</td>\n",
              "      <td>0.00176</td>\n",
              "      <td>...</td>\n",
              "      <td>1.5643</td>\n",
              "      <td>2.3308</td>\n",
              "      <td>9.4959</td>\n",
              "      <td>10.7458</td>\n",
              "      <td>11.0177</td>\n",
              "      <td>4.8066</td>\n",
              "      <td>2.9199</td>\n",
              "      <td>3.1495</td>\n",
              "      <td>4.7666</td>\n",
              "      <td>1</td>\n",
              "    </tr>\n",
              "    <tr>\n",
              "      <th>3</th>\n",
              "      <td>1</td>\n",
              "      <td>0</td>\n",
              "      <td>0.41121</td>\n",
              "      <td>0.79672</td>\n",
              "      <td>0.59257</td>\n",
              "      <td>178</td>\n",
              "      <td>177</td>\n",
              "      <td>0.010858</td>\n",
              "      <td>0.000183</td>\n",
              "      <td>0.00419</td>\n",
              "      <td>...</td>\n",
              "      <td>3.7805</td>\n",
              "      <td>3.5664</td>\n",
              "      <td>5.2558</td>\n",
              "      <td>14.0403</td>\n",
              "      <td>4.2235</td>\n",
              "      <td>4.6857</td>\n",
              "      <td>4.8460</td>\n",
              "      <td>6.2650</td>\n",
              "      <td>4.0603</td>\n",
              "      <td>1</td>\n",
              "    </tr>\n",
              "    <tr>\n",
              "      <th>4</th>\n",
              "      <td>1</td>\n",
              "      <td>0</td>\n",
              "      <td>0.32790</td>\n",
              "      <td>0.79782</td>\n",
              "      <td>0.53028</td>\n",
              "      <td>236</td>\n",
              "      <td>235</td>\n",
              "      <td>0.008162</td>\n",
              "      <td>0.002669</td>\n",
              "      <td>0.00535</td>\n",
              "      <td>...</td>\n",
              "      <td>6.1727</td>\n",
              "      <td>5.8416</td>\n",
              "      <td>6.0805</td>\n",
              "      <td>5.7621</td>\n",
              "      <td>7.7817</td>\n",
              "      <td>11.6891</td>\n",
              "      <td>8.2103</td>\n",
              "      <td>5.0559</td>\n",
              "      <td>6.1164</td>\n",
              "      <td>1</td>\n",
              "    </tr>\n",
              "  </tbody>\n",
              "</table>\n",
              "<p>5 rows × 755 columns</p>\n",
              "</div>\n",
              "    <div class=\"colab-df-buttons\">\n",
              "\n",
              "  <div class=\"colab-df-container\">\n",
              "    <button class=\"colab-df-convert\" onclick=\"convertToInteractive('df-2b1f09e6-3031-4d05-ae75-274e4b72a095')\"\n",
              "            title=\"Convert this dataframe to an interactive table.\"\n",
              "            style=\"display:none;\">\n",
              "\n",
              "  <svg xmlns=\"http://www.w3.org/2000/svg\" height=\"24px\" viewBox=\"0 -960 960 960\">\n",
              "    <path d=\"M120-120v-720h720v720H120Zm60-500h600v-160H180v160Zm220 220h160v-160H400v160Zm0 220h160v-160H400v160ZM180-400h160v-160H180v160Zm440 0h160v-160H620v160ZM180-180h160v-160H180v160Zm440 0h160v-160H620v160Z\"/>\n",
              "  </svg>\n",
              "    </button>\n",
              "\n",
              "  <style>\n",
              "    .colab-df-container {\n",
              "      display:flex;\n",
              "      gap: 12px;\n",
              "    }\n",
              "\n",
              "    .colab-df-convert {\n",
              "      background-color: #E8F0FE;\n",
              "      border: none;\n",
              "      border-radius: 50%;\n",
              "      cursor: pointer;\n",
              "      display: none;\n",
              "      fill: #1967D2;\n",
              "      height: 32px;\n",
              "      padding: 0 0 0 0;\n",
              "      width: 32px;\n",
              "    }\n",
              "\n",
              "    .colab-df-convert:hover {\n",
              "      background-color: #E2EBFA;\n",
              "      box-shadow: 0px 1px 2px rgba(60, 64, 67, 0.3), 0px 1px 3px 1px rgba(60, 64, 67, 0.15);\n",
              "      fill: #174EA6;\n",
              "    }\n",
              "\n",
              "    .colab-df-buttons div {\n",
              "      margin-bottom: 4px;\n",
              "    }\n",
              "\n",
              "    [theme=dark] .colab-df-convert {\n",
              "      background-color: #3B4455;\n",
              "      fill: #D2E3FC;\n",
              "    }\n",
              "\n",
              "    [theme=dark] .colab-df-convert:hover {\n",
              "      background-color: #434B5C;\n",
              "      box-shadow: 0px 1px 3px 1px rgba(0, 0, 0, 0.15);\n",
              "      filter: drop-shadow(0px 1px 2px rgba(0, 0, 0, 0.3));\n",
              "      fill: #FFFFFF;\n",
              "    }\n",
              "  </style>\n",
              "\n",
              "    <script>\n",
              "      const buttonEl =\n",
              "        document.querySelector('#df-2b1f09e6-3031-4d05-ae75-274e4b72a095 button.colab-df-convert');\n",
              "      buttonEl.style.display =\n",
              "        google.colab.kernel.accessAllowed ? 'block' : 'none';\n",
              "\n",
              "      async function convertToInteractive(key) {\n",
              "        const element = document.querySelector('#df-2b1f09e6-3031-4d05-ae75-274e4b72a095');\n",
              "        const dataTable =\n",
              "          await google.colab.kernel.invokeFunction('convertToInteractive',\n",
              "                                                    [key], {});\n",
              "        if (!dataTable) return;\n",
              "\n",
              "        const docLinkHtml = 'Like what you see? Visit the ' +\n",
              "          '<a target=\"_blank\" href=https://colab.research.google.com/notebooks/data_table.ipynb>data table notebook</a>'\n",
              "          + ' to learn more about interactive tables.';\n",
              "        element.innerHTML = '';\n",
              "        dataTable['output_type'] = 'display_data';\n",
              "        await google.colab.output.renderOutput(dataTable, element);\n",
              "        const docLink = document.createElement('div');\n",
              "        docLink.innerHTML = docLinkHtml;\n",
              "        element.appendChild(docLink);\n",
              "      }\n",
              "    </script>\n",
              "  </div>\n",
              "\n",
              "\n",
              "<div id=\"df-eae371f9-d61f-42db-8881-9ca710223277\">\n",
              "  <button class=\"colab-df-quickchart\" onclick=\"quickchart('df-eae371f9-d61f-42db-8881-9ca710223277')\"\n",
              "            title=\"Suggest charts.\"\n",
              "            style=\"display:none;\">\n",
              "\n",
              "<svg xmlns=\"http://www.w3.org/2000/svg\" height=\"24px\"viewBox=\"0 0 24 24\"\n",
              "     width=\"24px\">\n",
              "    <g>\n",
              "        <path d=\"M19 3H5c-1.1 0-2 .9-2 2v14c0 1.1.9 2 2 2h14c1.1 0 2-.9 2-2V5c0-1.1-.9-2-2-2zM9 17H7v-7h2v7zm4 0h-2V7h2v10zm4 0h-2v-4h2v4z\"/>\n",
              "    </g>\n",
              "</svg>\n",
              "  </button>\n",
              "\n",
              "<style>\n",
              "  .colab-df-quickchart {\n",
              "      --bg-color: #E8F0FE;\n",
              "      --fill-color: #1967D2;\n",
              "      --hover-bg-color: #E2EBFA;\n",
              "      --hover-fill-color: #174EA6;\n",
              "      --disabled-fill-color: #AAA;\n",
              "      --disabled-bg-color: #DDD;\n",
              "  }\n",
              "\n",
              "  [theme=dark] .colab-df-quickchart {\n",
              "      --bg-color: #3B4455;\n",
              "      --fill-color: #D2E3FC;\n",
              "      --hover-bg-color: #434B5C;\n",
              "      --hover-fill-color: #FFFFFF;\n",
              "      --disabled-bg-color: #3B4455;\n",
              "      --disabled-fill-color: #666;\n",
              "  }\n",
              "\n",
              "  .colab-df-quickchart {\n",
              "    background-color: var(--bg-color);\n",
              "    border: none;\n",
              "    border-radius: 50%;\n",
              "    cursor: pointer;\n",
              "    display: none;\n",
              "    fill: var(--fill-color);\n",
              "    height: 32px;\n",
              "    padding: 0;\n",
              "    width: 32px;\n",
              "  }\n",
              "\n",
              "  .colab-df-quickchart:hover {\n",
              "    background-color: var(--hover-bg-color);\n",
              "    box-shadow: 0 1px 2px rgba(60, 64, 67, 0.3), 0 1px 3px 1px rgba(60, 64, 67, 0.15);\n",
              "    fill: var(--button-hover-fill-color);\n",
              "  }\n",
              "\n",
              "  .colab-df-quickchart-complete:disabled,\n",
              "  .colab-df-quickchart-complete:disabled:hover {\n",
              "    background-color: var(--disabled-bg-color);\n",
              "    fill: var(--disabled-fill-color);\n",
              "    box-shadow: none;\n",
              "  }\n",
              "\n",
              "  .colab-df-spinner {\n",
              "    border: 2px solid var(--fill-color);\n",
              "    border-color: transparent;\n",
              "    border-bottom-color: var(--fill-color);\n",
              "    animation:\n",
              "      spin 1s steps(1) infinite;\n",
              "  }\n",
              "\n",
              "  @keyframes spin {\n",
              "    0% {\n",
              "      border-color: transparent;\n",
              "      border-bottom-color: var(--fill-color);\n",
              "      border-left-color: var(--fill-color);\n",
              "    }\n",
              "    20% {\n",
              "      border-color: transparent;\n",
              "      border-left-color: var(--fill-color);\n",
              "      border-top-color: var(--fill-color);\n",
              "    }\n",
              "    30% {\n",
              "      border-color: transparent;\n",
              "      border-left-color: var(--fill-color);\n",
              "      border-top-color: var(--fill-color);\n",
              "      border-right-color: var(--fill-color);\n",
              "    }\n",
              "    40% {\n",
              "      border-color: transparent;\n",
              "      border-right-color: var(--fill-color);\n",
              "      border-top-color: var(--fill-color);\n",
              "    }\n",
              "    60% {\n",
              "      border-color: transparent;\n",
              "      border-right-color: var(--fill-color);\n",
              "    }\n",
              "    80% {\n",
              "      border-color: transparent;\n",
              "      border-right-color: var(--fill-color);\n",
              "      border-bottom-color: var(--fill-color);\n",
              "    }\n",
              "    90% {\n",
              "      border-color: transparent;\n",
              "      border-bottom-color: var(--fill-color);\n",
              "    }\n",
              "  }\n",
              "</style>\n",
              "\n",
              "  <script>\n",
              "    async function quickchart(key) {\n",
              "      const quickchartButtonEl =\n",
              "        document.querySelector('#' + key + ' button');\n",
              "      quickchartButtonEl.disabled = true;  // To prevent multiple clicks.\n",
              "      quickchartButtonEl.classList.add('colab-df-spinner');\n",
              "      try {\n",
              "        const charts = await google.colab.kernel.invokeFunction(\n",
              "            'suggestCharts', [key], {});\n",
              "      } catch (error) {\n",
              "        console.error('Error during call to suggestCharts:', error);\n",
              "      }\n",
              "      quickchartButtonEl.classList.remove('colab-df-spinner');\n",
              "      quickchartButtonEl.classList.add('colab-df-quickchart-complete');\n",
              "    }\n",
              "    (() => {\n",
              "      let quickchartButtonEl =\n",
              "        document.querySelector('#df-eae371f9-d61f-42db-8881-9ca710223277 button');\n",
              "      quickchartButtonEl.style.display =\n",
              "        google.colab.kernel.accessAllowed ? 'block' : 'none';\n",
              "    })();\n",
              "  </script>\n",
              "</div>\n",
              "    </div>\n",
              "  </div>\n"
            ]
          },
          "metadata": {},
          "execution_count": 1
        }
      ],
      "source": [
        "import pandas as pd\n",
        "\n",
        "df = pd.read_csv(\"/content/pd_speech_features.csv\")\n",
        "df.head()"
      ]
    },
    {
      "cell_type": "code",
      "source": [
        "df['class'].value_counts(normalize=True)"
      ],
      "metadata": {
        "colab": {
          "base_uri": "https://localhost:8080/"
        },
        "id": "jtLVCcOdLLL-",
        "outputId": "9b89edfd-c582-41ef-8910-98880eb70a0e"
      },
      "execution_count": 3,
      "outputs": [
        {
          "output_type": "execute_result",
          "data": {
            "text/plain": [
              "1    0.746032\n",
              "0    0.253968\n",
              "Name: class, dtype: float64"
            ]
          },
          "metadata": {},
          "execution_count": 3
        }
      ]
    },
    {
      "cell_type": "code",
      "source": [
        "df.info()"
      ],
      "metadata": {
        "colab": {
          "base_uri": "https://localhost:8080/"
        },
        "id": "nlG4b6tMLUCk",
        "outputId": "c8132dd4-978d-41a1-b0e5-ca57d0944684"
      },
      "execution_count": 4,
      "outputs": [
        {
          "output_type": "stream",
          "name": "stdout",
          "text": [
            "<class 'pandas.core.frame.DataFrame'>\n",
            "RangeIndex: 756 entries, 0 to 755\n",
            "Columns: 755 entries, id to class\n",
            "dtypes: float64(749), int64(6)\n",
            "memory usage: 4.4 MB\n"
          ]
        }
      ]
    },
    {
      "cell_type": "code",
      "source": [
        "len(df.dropna()) / len(df)\n",
        "\n",
        "# no missing values"
      ],
      "metadata": {
        "colab": {
          "base_uri": "https://localhost:8080/"
        },
        "id": "6MMuasSnLXYi",
        "outputId": "eb768c3e-d8af-4fbb-a051-37bcd8b020be"
      },
      "execution_count": 6,
      "outputs": [
        {
          "output_type": "execute_result",
          "data": {
            "text/plain": [
              "1.0"
            ]
          },
          "metadata": {},
          "execution_count": 6
        }
      ]
    },
    {
      "cell_type": "code",
      "source": [
        "from sklearn.model_selection import train_test_split\n",
        "X_train, X_test, y_train, y_test = train_test_split(df.drop(columns=['class']), df['class'], test_size=0.25, random_state=2023,\n",
        "                                                    stratify=df['class'])\n",
        "print('stratify train: {:5.2f} test: {:5.2f}'.format(y_train.sum()/len(y_train), y_test.sum()/len(y_test)))"
      ],
      "metadata": {
        "colab": {
          "base_uri": "https://localhost:8080/"
        },
        "id": "-H2IgneSLhR8",
        "outputId": "e761b4fe-1aca-4f74-a26c-f45400d5abbb"
      },
      "execution_count": 8,
      "outputs": [
        {
          "output_type": "stream",
          "name": "stdout",
          "text": [
            "stratify train:  0.75 test:  0.75\n"
          ]
        }
      ]
    },
    {
      "cell_type": "code",
      "source": [
        "from sklearn.ensemble import HistGradientBoostingClassifier\n",
        "max_iter = 100\n",
        "hist_grad = HistGradientBoostingClassifier(max_iter=max_iter, random_state=2023, verbose=1)\n",
        "hist_grad.fit(X=X_train, y=y_train)\n",
        "print('model classes: {}'.format(hist_grad.classes_))"
      ],
      "metadata": {
        "colab": {
          "base_uri": "https://localhost:8080/"
        },
        "id": "9bpVurPcOaHc",
        "outputId": "d83d5d7c-3da7-4484-8527-58f65ce2a102"
      },
      "execution_count": 9,
      "outputs": [
        {
          "output_type": "stream",
          "name": "stdout",
          "text": [
            "Binning 0.003 GB of training data: 0.966 s\n",
            "Fitting gradient boosted rounds:\n",
            "[1/100] 1 tree, 16 leaves, max depth = 8, in 0.058s\n",
            "[2/100] 1 tree, 23 leaves, max depth = 12, in 0.064s\n",
            "[3/100] 1 tree, 23 leaves, max depth = 12, in 0.057s\n",
            "[4/100] 1 tree, 23 leaves, max depth = 12, in 0.057s\n",
            "[5/100] 1 tree, 23 leaves, max depth = 10, in 0.059s\n",
            "[6/100] 1 tree, 22 leaves, max depth = 9, in 0.053s\n",
            "[7/100] 1 tree, 24 leaves, max depth = 11, in 0.071s\n",
            "[8/100] 1 tree, 24 leaves, max depth = 10, in 0.063s\n",
            "[9/100] 1 tree, 24 leaves, max depth = 11, in 0.063s\n",
            "[10/100] 1 tree, 24 leaves, max depth = 9, in 0.061s\n",
            "[11/100] 1 tree, 24 leaves, max depth = 8, in 0.074s\n",
            "[12/100] 1 tree, 24 leaves, max depth = 9, in 0.058s\n",
            "[13/100] 1 tree, 23 leaves, max depth = 11, in 0.061s\n",
            "[14/100] 1 tree, 24 leaves, max depth = 11, in 0.059s\n",
            "[15/100] 1 tree, 23 leaves, max depth = 11, in 0.056s\n",
            "[16/100] 1 tree, 22 leaves, max depth = 7, in 0.086s\n",
            "[17/100] 1 tree, 22 leaves, max depth = 10, in 0.063s\n",
            "[18/100] 1 tree, 23 leaves, max depth = 8, in 0.071s\n",
            "[19/100] 1 tree, 24 leaves, max depth = 8, in 0.060s\n",
            "[20/100] 1 tree, 24 leaves, max depth = 12, in 0.062s\n",
            "[21/100] 1 tree, 24 leaves, max depth = 9, in 0.071s\n",
            "[22/100] 1 tree, 23 leaves, max depth = 10, in 0.060s\n",
            "[23/100] 1 tree, 23 leaves, max depth = 11, in 0.062s\n",
            "[24/100] 1 tree, 21 leaves, max depth = 8, in 0.055s\n",
            "[25/100] 1 tree, 24 leaves, max depth = 9, in 0.074s\n",
            "[26/100] 1 tree, 24 leaves, max depth = 12, in 0.066s\n",
            "[27/100] 1 tree, 24 leaves, max depth = 12, in 0.066s\n",
            "[28/100] 1 tree, 23 leaves, max depth = 9, in 0.061s\n",
            "[29/100] 1 tree, 24 leaves, max depth = 10, in 0.071s\n",
            "[30/100] 1 tree, 22 leaves, max depth = 11, in 0.056s\n",
            "[31/100] 1 tree, 22 leaves, max depth = 10, in 0.055s\n",
            "[32/100] 1 tree, 23 leaves, max depth = 10, in 0.078s\n",
            "[33/100] 1 tree, 23 leaves, max depth = 9, in 0.062s\n",
            "[34/100] 1 tree, 23 leaves, max depth = 10, in 0.067s\n",
            "[35/100] 1 tree, 23 leaves, max depth = 12, in 0.068s\n",
            "[36/100] 1 tree, 24 leaves, max depth = 9, in 0.069s\n",
            "[37/100] 1 tree, 22 leaves, max depth = 9, in 0.059s\n",
            "[38/100] 1 tree, 22 leaves, max depth = 11, in 0.065s\n",
            "[39/100] 1 tree, 24 leaves, max depth = 9, in 0.059s\n",
            "[40/100] 1 tree, 22 leaves, max depth = 12, in 0.060s\n",
            "[41/100] 1 tree, 24 leaves, max depth = 9, in 0.058s\n",
            "[42/100] 1 tree, 22 leaves, max depth = 11, in 0.070s\n",
            "[43/100] 1 tree, 24 leaves, max depth = 8, in 0.062s\n",
            "[44/100] 1 tree, 21 leaves, max depth = 10, in 0.062s\n",
            "[45/100] 1 tree, 23 leaves, max depth = 8, in 0.064s\n",
            "[46/100] 1 tree, 23 leaves, max depth = 10, in 0.059s\n",
            "[47/100] 1 tree, 24 leaves, max depth = 7, in 0.079s\n",
            "[48/100] 1 tree, 21 leaves, max depth = 11, in 0.055s\n",
            "[49/100] 1 tree, 22 leaves, max depth = 10, in 0.060s\n",
            "[50/100] 1 tree, 23 leaves, max depth = 11, in 0.060s\n",
            "[51/100] 1 tree, 24 leaves, max depth = 7, in 0.062s\n",
            "[52/100] 1 tree, 22 leaves, max depth = 10, in 0.058s\n",
            "[53/100] 1 tree, 24 leaves, max depth = 8, in 0.064s\n",
            "[54/100] 1 tree, 23 leaves, max depth = 10, in 0.068s\n",
            "[55/100] 1 tree, 24 leaves, max depth = 10, in 0.061s\n",
            "[56/100] 1 tree, 20 leaves, max depth = 10, in 0.051s\n",
            "[57/100] 1 tree, 24 leaves, max depth = 8, in 0.061s\n",
            "[58/100] 1 tree, 24 leaves, max depth = 9, in 0.064s\n",
            "[59/100] 1 tree, 22 leaves, max depth = 13, in 0.067s\n",
            "[60/100] 1 tree, 25 leaves, max depth = 8, in 0.061s\n",
            "[61/100] 1 tree, 23 leaves, max depth = 11, in 0.059s\n",
            "[62/100] 1 tree, 21 leaves, max depth = 7, in 0.054s\n",
            "[63/100] 1 tree, 22 leaves, max depth = 12, in 0.058s\n",
            "[64/100] 1 tree, 23 leaves, max depth = 9, in 0.087s\n",
            "[65/100] 1 tree, 23 leaves, max depth = 9, in 0.058s\n",
            "[66/100] 1 tree, 23 leaves, max depth = 11, in 0.061s\n",
            "[67/100] 1 tree, 23 leaves, max depth = 8, in 0.060s\n",
            "[68/100] 1 tree, 20 leaves, max depth = 12, in 0.057s\n",
            "[69/100] 1 tree, 24 leaves, max depth = 9, in 0.063s\n",
            "[70/100] 1 tree, 24 leaves, max depth = 9, in 0.074s\n",
            "[71/100] 1 tree, 23 leaves, max depth = 9, in 0.058s\n",
            "[72/100] 1 tree, 23 leaves, max depth = 9, in 0.059s\n",
            "[73/100] 1 tree, 21 leaves, max depth = 12, in 0.058s\n",
            "[74/100] 1 tree, 22 leaves, max depth = 8, in 0.061s\n",
            "[75/100] 1 tree, 23 leaves, max depth = 11, in 0.058s\n",
            "[76/100] 1 tree, 21 leaves, max depth = 9, in 0.052s\n",
            "[77/100] 1 tree, 22 leaves, max depth = 12, in 0.069s\n",
            "[78/100] 1 tree, 23 leaves, max depth = 8, in 0.060s\n",
            "[79/100] 1 tree, 23 leaves, max depth = 12, in 0.062s\n",
            "[80/100] 1 tree, 23 leaves, max depth = 12, in 0.074s\n",
            "[81/100] 1 tree, 23 leaves, max depth = 12, in 0.065s\n",
            "[82/100] 1 tree, 22 leaves, max depth = 8, in 0.061s\n",
            "[83/100] 1 tree, 25 leaves, max depth = 9, in 0.066s\n",
            "[84/100] 1 tree, 22 leaves, max depth = 8, in 0.056s\n",
            "[85/100] 1 tree, 23 leaves, max depth = 10, in 0.061s\n",
            "[86/100] 1 tree, 22 leaves, max depth = 7, in 0.069s\n",
            "[87/100] 1 tree, 23 leaves, max depth = 9, in 0.060s\n",
            "[88/100] 1 tree, 22 leaves, max depth = 8, in 0.055s\n",
            "[89/100] 1 tree, 23 leaves, max depth = 10, in 0.064s\n",
            "[90/100] 1 tree, 23 leaves, max depth = 9, in 0.063s\n",
            "[91/100] 1 tree, 23 leaves, max depth = 9, in 0.066s\n",
            "[92/100] 1 tree, 23 leaves, max depth = 11, in 0.063s\n",
            "[93/100] 1 tree, 23 leaves, max depth = 10, in 0.062s\n",
            "[94/100] 1 tree, 23 leaves, max depth = 7, in 0.057s\n",
            "[95/100] 1 tree, 23 leaves, max depth = 13, in 0.059s\n",
            "[96/100] 1 tree, 23 leaves, max depth = 11, in 0.075s\n",
            "[97/100] 1 tree, 22 leaves, max depth = 12, in 0.073s\n",
            "[98/100] 1 tree, 22 leaves, max depth = 9, in 0.060s\n",
            "[99/100] 1 tree, 24 leaves, max depth = 11, in 0.064s\n",
            "[100/100] 1 tree, 22 leaves, max depth = 10, in 0.057s\n",
            "Fit 100 trees in 7.393 s, (2284 total leaves)\n",
            "Time spent computing histograms: 3.047s\n",
            "Time spent finding best splits:  2.139s\n",
            "Time spent applying splits:      0.149s\n",
            "Time spent predicting:           0.014s\n",
            "model classes: [0 1]\n"
          ]
        }
      ]
    },
    {
      "cell_type": "code",
      "source": [
        "from sklearn.metrics import classification_report\n",
        "print(classification_report(y_true=y_test, y_pred=hist_grad.predict(X=X_test)))"
      ],
      "metadata": {
        "colab": {
          "base_uri": "https://localhost:8080/"
        },
        "id": "z8cVdzeCOfUf",
        "outputId": "a4e7a834-8431-443c-ae33-f36996fc9679"
      },
      "execution_count": 10,
      "outputs": [
        {
          "output_type": "stream",
          "name": "stdout",
          "text": [
            "              precision    recall  f1-score   support\n",
            "\n",
            "           0       0.85      0.60      0.71        48\n",
            "           1       0.88      0.96      0.92       141\n",
            "\n",
            "    accuracy                           0.87       189\n",
            "   macro avg       0.87      0.78      0.81       189\n",
            "weighted avg       0.87      0.87      0.87       189\n",
            "\n"
          ]
        }
      ]
    },
    {
      "cell_type": "code",
      "source": [
        "print(classification_report(y_true=y_test, y_pred=0 * y_test, zero_division=0))"
      ],
      "metadata": {
        "colab": {
          "base_uri": "https://localhost:8080/"
        },
        "id": "4Hu2SH36OiEi",
        "outputId": "4754aa69-227d-4e42-f0a7-19696b5e3449"
      },
      "execution_count": 11,
      "outputs": [
        {
          "output_type": "stream",
          "name": "stdout",
          "text": [
            "              precision    recall  f1-score   support\n",
            "\n",
            "           0       0.25      1.00      0.41        48\n",
            "           1       0.00      0.00      0.00       141\n",
            "\n",
            "    accuracy                           0.25       189\n",
            "   macro avg       0.13      0.50      0.20       189\n",
            "weighted avg       0.06      0.25      0.10       189\n",
            "\n"
          ]
        }
      ]
    },
    {
      "cell_type": "code",
      "source": [
        "result_df = X_test.copy()\n",
        "result_df['expected'] = y_test\n",
        "result_df['observed'] = hist_grad.predict(X=X_test)\n",
        "result_df['result'] = result_df['expected'].astype(str) + '/' + result_df['observed'].astype(str)\n",
        "result_df['result'].value_counts()"
      ],
      "metadata": {
        "colab": {
          "base_uri": "https://localhost:8080/"
        },
        "id": "NkJBEfdcOjc1",
        "outputId": "9afb1d2e-b666-4ebd-daa3-d891140223ed"
      },
      "execution_count": 12,
      "outputs": [
        {
          "output_type": "execute_result",
          "data": {
            "text/plain": [
              "1/1    136\n",
              "0/0     29\n",
              "0/1     19\n",
              "1/0      5\n",
              "Name: result, dtype: int64"
            ]
          },
          "metadata": {},
          "execution_count": 12
        }
      ]
    },
    {
      "cell_type": "code",
      "source": [
        "from sklearn.ensemble import RandomForestClassifier\n",
        "from sklearn.impute import SimpleImputer\n",
        "fill_value = 0.0\n",
        "n_estimators = 100\n",
        "for strategy in ['mean', 'median', 'most_frequent', 'constant']:\n",
        "    imputer = SimpleImputer(strategy=strategy, fill_value=fill_value, copy=True, )\n",
        "    rand_forest = RandomForestClassifier(n_estimators=200, random_state=2023, verbose=1, )\n",
        "    rand_forest.fit(X=imputer.fit_transform(X=X_train), y=y_train)\n",
        "    y_pred = rand_forest.predict(X=imputer.fit_transform(X=X_test))\n",
        "    print('strategy: {}'.format(strategy))\n",
        "    print(classification_report(y_true=y_test, y_pred=y_pred))"
      ],
      "metadata": {
        "colab": {
          "base_uri": "https://localhost:8080/"
        },
        "id": "h3wftmfIOn5w",
        "outputId": "6f76e8df-cdd2-483c-8a62-9ceaf8712c6f"
      },
      "execution_count": 13,
      "outputs": [
        {
          "output_type": "stream",
          "name": "stderr",
          "text": [
            "[Parallel(n_jobs=1)]: Done  49 tasks      | elapsed:    0.8s\n",
            "[Parallel(n_jobs=1)]: Done 199 tasks      | elapsed:    3.8s\n",
            "[Parallel(n_jobs=1)]: Done  49 tasks      | elapsed:    0.0s\n",
            "[Parallel(n_jobs=1)]: Done 199 tasks      | elapsed:    0.0s\n"
          ]
        },
        {
          "output_type": "stream",
          "name": "stdout",
          "text": [
            "strategy: mean\n",
            "              precision    recall  f1-score   support\n",
            "\n",
            "           0       0.88      0.58      0.70        48\n",
            "           1       0.87      0.97      0.92       141\n",
            "\n",
            "    accuracy                           0.87       189\n",
            "   macro avg       0.87      0.78      0.81       189\n",
            "weighted avg       0.87      0.87      0.86       189\n",
            "\n"
          ]
        },
        {
          "output_type": "stream",
          "name": "stderr",
          "text": [
            "[Parallel(n_jobs=1)]: Done  49 tasks      | elapsed:    0.7s\n",
            "[Parallel(n_jobs=1)]: Done 199 tasks      | elapsed:    2.6s\n",
            "[Parallel(n_jobs=1)]: Done  49 tasks      | elapsed:    0.0s\n",
            "[Parallel(n_jobs=1)]: Done 199 tasks      | elapsed:    0.0s\n"
          ]
        },
        {
          "output_type": "stream",
          "name": "stdout",
          "text": [
            "strategy: median\n",
            "              precision    recall  f1-score   support\n",
            "\n",
            "           0       0.88      0.58      0.70        48\n",
            "           1       0.87      0.97      0.92       141\n",
            "\n",
            "    accuracy                           0.87       189\n",
            "   macro avg       0.87      0.78      0.81       189\n",
            "weighted avg       0.87      0.87      0.86       189\n",
            "\n"
          ]
        },
        {
          "output_type": "stream",
          "name": "stderr",
          "text": [
            "[Parallel(n_jobs=1)]: Done  49 tasks      | elapsed:    0.5s\n",
            "[Parallel(n_jobs=1)]: Done 199 tasks      | elapsed:    2.1s\n",
            "[Parallel(n_jobs=1)]: Done  49 tasks      | elapsed:    0.0s\n",
            "[Parallel(n_jobs=1)]: Done 199 tasks      | elapsed:    0.0s\n"
          ]
        },
        {
          "output_type": "stream",
          "name": "stdout",
          "text": [
            "strategy: most_frequent\n",
            "              precision    recall  f1-score   support\n",
            "\n",
            "           0       0.88      0.58      0.70        48\n",
            "           1       0.87      0.97      0.92       141\n",
            "\n",
            "    accuracy                           0.87       189\n",
            "   macro avg       0.87      0.78      0.81       189\n",
            "weighted avg       0.87      0.87      0.86       189\n",
            "\n"
          ]
        },
        {
          "output_type": "stream",
          "name": "stderr",
          "text": [
            "[Parallel(n_jobs=1)]: Done  49 tasks      | elapsed:    0.5s\n"
          ]
        },
        {
          "output_type": "stream",
          "name": "stdout",
          "text": [
            "strategy: constant\n",
            "              precision    recall  f1-score   support\n",
            "\n",
            "           0       0.88      0.58      0.70        48\n",
            "           1       0.87      0.97      0.92       141\n",
            "\n",
            "    accuracy                           0.87       189\n",
            "   macro avg       0.87      0.78      0.81       189\n",
            "weighted avg       0.87      0.87      0.86       189\n",
            "\n"
          ]
        },
        {
          "output_type": "stream",
          "name": "stderr",
          "text": [
            "[Parallel(n_jobs=1)]: Done 199 tasks      | elapsed:    2.1s\n",
            "[Parallel(n_jobs=1)]: Done  49 tasks      | elapsed:    0.0s\n",
            "[Parallel(n_jobs=1)]: Done 199 tasks      | elapsed:    0.0s\n"
          ]
        }
      ]
    },
    {
      "cell_type": "code",
      "source": [
        "y_pred = hist_grad.predict(X_test).ravel()\n",
        "y_test = y_test.ravel()\n",
        "print(y_pred[:10])\n",
        "print(y_test[:10])"
      ],
      "metadata": {
        "colab": {
          "base_uri": "https://localhost:8080/"
        },
        "id": "PRa2EW5ROxJF",
        "outputId": "0098fa48-6404-42a5-c332-320ea4ceefad"
      },
      "execution_count": 16,
      "outputs": [
        {
          "output_type": "stream",
          "name": "stdout",
          "text": [
            "[0 0 1 1 1 1 1 1 1 1]\n",
            "[0 0 0 1 1 1 0 1 1 1]\n"
          ]
        }
      ]
    },
    {
      "cell_type": "code",
      "source": [
        "import seaborn as sns\n",
        "from sklearn.metrics import classification_report, confusion_matrix, accuracy_score\n",
        "sns.heatmap(confusion_matrix(y_test, y_pred), annot = True)"
      ],
      "metadata": {
        "colab": {
          "base_uri": "https://localhost:8080/",
          "height": 447
        },
        "id": "Jy9dIeQVP6Wx",
        "outputId": "37972f51-ac13-44b4-f1ce-0547aec8543e"
      },
      "execution_count": 19,
      "outputs": [
        {
          "output_type": "execute_result",
          "data": {
            "text/plain": [
              "<Axes: >"
            ]
          },
          "metadata": {},
          "execution_count": 19
        },
        {
          "output_type": "display_data",
          "data": {
            "text/plain": [
              "<Figure size 640x480 with 2 Axes>"
            ],
            "image/png": "[encoded data removed]"
          },
          "metadata": {}
        }
      ]
    },
    {
      "cell_type": "code",
      "source": [
        "print(accuracy_score(y_test, y_pred))"
      ],
      "metadata": {
        "colab": {
          "base_uri": "https://localhost:8080/"
        },
        "id": "nWSj54SKQDs4",
        "outputId": "3329f900-39bc-42b9-843a-60418f60c3ef"
      },
      "execution_count": 20,
      "outputs": [
        {
          "output_type": "stream",
          "name": "stdout",
          "text": [
            "0.873015873015873\n"
          ]
        }
      ]
    }
  ]
}